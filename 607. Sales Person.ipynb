{
 "cells": [
  {
   "cell_type": "code",
   "execution_count": null,
   "metadata": {},
   "outputs": [],
   "source": [
    "import pandas as pd\n",
    "\n",
    "def sales_person(sales_person: pd.DataFrame, company: pd.DataFrame, orders: pd.DataFrame) -> pd.DataFrame:\n",
    "    # df = pd.merge(sales_person,orders,on='sales_id')\n",
    "    final_df = pd.merge(orders,company,on='com_id')\n",
    "    sales_with_red = final_df[final_df['name']=='RED']['sales_id']\n",
    "    sales_without_red = sales_person[~sales_person['sales_id'].isin(sales_with_red)]\n",
    "    result = sales_without_red[['name']]\n",
    "    return result"
   ]
  }
 ],
 "metadata": {
  "language_info": {
   "name": "python"
  }
 },
 "nbformat": 4,
 "nbformat_minor": 2
}
