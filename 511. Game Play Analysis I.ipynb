{
 "cells": [
  {
   "cell_type": "code",
   "execution_count": null,
   "metadata": {},
   "outputs": [],
   "source": [
    "import pandas as pd\n",
    "\n",
    "def game_analysis(activity: pd.DataFrame) -> pd.DataFrame:\n",
    "    activity = activity.sort_values(by=['player_id', 'event_date'],ascending=[True,True])\n",
    "    activity = activity.drop_duplicates(subset='player_id')\n",
    "    activity= activity.rename(columns = {'event_date' : 'first_login'})\n",
    "    # activity = activity.loc[(activity['event_date'] < pd.Timedelta(0)), ['player_id','event_date']]\n",
    "    columns = ['player_id','first_login']\n",
    "    return activity[columns]"
   ]
  }
 ],
 "metadata": {
  "language_info": {
   "name": "python"
  }
 },
 "nbformat": 4,
 "nbformat_minor": 2
}
