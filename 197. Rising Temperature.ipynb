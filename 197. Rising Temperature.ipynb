{
 "cells": [
  {
   "cell_type": "code",
   "execution_count": null,
   "metadata": {},
   "outputs": [],
   "source": [
    "import pandas as pd\n",
    "\n",
    "def rising_temperature(weather: pd.DataFrame) -> pd.DataFrame:\n",
    "    weather = weather.sort_values(by='recordDate')\n",
    "    weather['diff_temp'] = weather['temperature'].diff()\n",
    "    weather['diff_days'] = weather['recordDate'].diff()\n",
    "    df = weather.loc[((weather['diff_temp']>0) &  ( weather['diff_days']== '1 days')),['id']]\n",
    "\n",
    "    return df"
   ]
  }
 ],
 "metadata": {
  "language_info": {
   "name": "python"
  }
 },
 "nbformat": 4,
 "nbformat_minor": 2
}
