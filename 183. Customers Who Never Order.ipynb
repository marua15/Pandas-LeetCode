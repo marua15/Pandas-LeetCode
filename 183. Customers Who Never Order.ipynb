{
 "cells": [
  {
   "cell_type": "code",
   "execution_count": null,
   "metadata": {},
   "outputs": [],
   "source": [
    "import pandas as pd\n",
    "\n",
    "def find_customers(customers: pd.DataFrame, orders: pd.DataFrame) -> pd.DataFrame:\n",
    "    customers_orders = orders['customerId'].unique()\n",
    "    customers_never_orders = customers[~customers['id'].isin(customers_orders)]\n",
    "    customers_never_orders = customers_never_orders.rename(columns = {'name' : 'Customers'})\n",
    "    return customers_never_orders[['Customers']]\n",
    "\n",
    "\n"
   ]
  }
 ],
 "metadata": {
  "language_info": {
   "name": "python"
  }
 },
 "nbformat": 4,
 "nbformat_minor": 2
}
