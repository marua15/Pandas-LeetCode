{
 "cells": [
  {
   "cell_type": "code",
   "execution_count": 1,
   "metadata": {},
   "outputs": [
    {
     "name": "stdout",
     "output_type": "stream",
     "text": [
      "   patient_id patient_name conditions\n",
      "0           1       Daniel  SADIAB100\n"
     ]
    }
   ],
   "source": [
    "import pandas as pd\n",
    "\n",
    "def find_patients(patients: pd.DataFrame) -> pd.DataFrame:\n",
    "    # Define the regex pattern\n",
    "    regex = r'DIAB1'\n",
    "    \n",
    "    # Filter the patients whose conditions match the regex\n",
    "    new_patients = patients[patients[\"conditions\"].str.contains(regex)]\n",
    "    \n",
    "    return new_patients\n",
    "\n",
    "# Sample data\n",
    "data = {\n",
    "    'patient_id': [1],\n",
    "    'patient_name': ['Daniel'],\n",
    "    'conditions': ['SADIAB100']\n",
    "}\n",
    "\n",
    "# Create DataFrame\n",
    "patients = pd.DataFrame(data)\n",
    "\n",
    "# Test the function\n",
    "result = find_patients(patients)\n",
    "print(result)\n"
   ]
  }
 ],
 "metadata": {
  "kernelspec": {
   "display_name": "Python 3",
   "language": "python",
   "name": "python3"
  },
  "language_info": {
   "codemirror_mode": {
    "name": "ipython",
    "version": 3
   },
   "file_extension": ".py",
   "mimetype": "text/x-python",
   "name": "python",
   "nbconvert_exporter": "python",
   "pygments_lexer": "ipython3",
   "version": "3.11.3"
  }
 },
 "nbformat": 4,
 "nbformat_minor": 2
}
