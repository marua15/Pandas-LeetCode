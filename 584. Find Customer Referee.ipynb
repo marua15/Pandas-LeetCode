{
 "cells": [
  {
   "cell_type": "code",
   "execution_count": null,
   "metadata": {},
   "outputs": [],
   "source": [
    "import pandas as pd\n",
    "\n",
    "def find_customer_referee(customer: pd.DataFrame) -> pd.DataFrame:\n",
    "    customer = customer.loc[(customer['referee_id'].isna()) | (customer['referee_id'] != 2),['name']]\n",
    "    return customer"
   ]
  }
 ],
 "metadata": {
  "language_info": {
   "name": "python"
  }
 },
 "nbformat": 4,
 "nbformat_minor": 2
}
