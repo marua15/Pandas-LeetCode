{
 "cells": [
  {
   "cell_type": "code",
   "execution_count": null,
   "metadata": {},
   "outputs": [],
   "source": [
    "import pandas as pd\n",
    "\n",
    "def employee_bonus(employee: pd.DataFrame, bonus: pd.DataFrame) -> pd.DataFrame:\n",
    "    df = pd.merge(employee,bonus,on='empId',how='left')\n",
    "    # df =  df.drop_duplicates(subset='empId',keep='')\n",
    "    df = df.loc[(df['bonus'].isna()) | (df['bonus']<1000),['name','bonus']]\n",
    "    return df"
   ]
  }
 ],
 "metadata": {
  "language_info": {
   "name": "python"
  }
 },
 "nbformat": 4,
 "nbformat_minor": 2
}
