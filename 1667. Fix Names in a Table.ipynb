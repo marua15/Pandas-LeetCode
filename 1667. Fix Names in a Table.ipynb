{
 "cells": [
  {
   "cell_type": "code",
   "execution_count": null,
   "metadata": {},
   "outputs": [],
   "source": [
    "import pandas as pd\n",
    "\n",
    "def fix_names(users: pd.DataFrame) -> pd.DataFrame:\n",
    "    users['name'] = users['name'].str.capitalize()\n",
    "    sort_users = users.sort_values(by=\"user_id\",ascending=True)\n",
    "    return sort_users"
   ]
  }
 ],
 "metadata": {
  "language_info": {
   "name": "python"
  }
 },
 "nbformat": 4,
 "nbformat_minor": 2
}
