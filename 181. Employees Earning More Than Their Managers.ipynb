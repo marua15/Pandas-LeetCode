{
 "cells": [
  {
   "cell_type": "code",
   "execution_count": null,
   "metadata": {},
   "outputs": [],
   "source": [
    "import pandas as pd\n",
    "\n",
    "def find_employees(employee: pd.DataFrame) -> pd.DataFrame:\n",
    "    df = pd.merge(left=employee,right=employee,left_on='id',right_on='managerId',how='right')\n",
    "    df = df[(df['salary_y']>df['salary_x'])][['name_y']]\n",
    "    df = df.rename(columns = {'name_y' : 'Employee'})\n",
    "    return df "
   ]
  }
 ],
 "metadata": {
  "language_info": {
   "name": "python"
  }
 },
 "nbformat": 4,
 "nbformat_minor": 2
}
