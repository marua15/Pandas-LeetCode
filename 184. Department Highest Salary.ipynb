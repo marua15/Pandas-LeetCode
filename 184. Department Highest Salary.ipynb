{
 "cells": [
  {
   "cell_type": "code",
   "execution_count": null,
   "metadata": {},
   "outputs": [],
   "source": [
    "import pandas as pd\n",
    "\n",
    "def department_highest_salary(employee: pd.DataFrame, department: pd.DataFrame) -> pd.DataFrame:\n",
    "    department = department.rename(columns = {'id' : 'departmentId'})\n",
    "    df_merged = pd.merge(employee,department,on='departmentId')\n",
    "    df_merged = df_merged.sort_values(by='salary', ascending=False)\n",
    "    max_salary = df_merged.groupby(by='name_y')['salary'].max().reset_index()\n",
    "    max_salary = max_salary.rename(columns={'salary' : 'max_salary'})\n",
    "    # Merge the max_salary back to the original merged DataFrame\n",
    "    result = pd.merge(df_merged, max_salary, left_on=['name_y', 'salary'], right_on=['name_y', 'max_salary'])\n",
    "    result = result.rename(columns={\n",
    "        'name_y' : 'Department',\n",
    "        'name_x' : 'Employee',\n",
    "       'salary': 'Salary'})\n",
    "    return result[['Department','Employee','Salary']]"
   ]
  }
 ],
 "metadata": {
  "language_info": {
   "name": "python"
  }
 },
 "nbformat": 4,
 "nbformat_minor": 2
}
