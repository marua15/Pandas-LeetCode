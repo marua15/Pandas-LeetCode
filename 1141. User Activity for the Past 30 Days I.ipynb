{
 "cells": [
  {
   "cell_type": "code",
   "execution_count": null,
   "metadata": {},
   "outputs": [],
   "source": [
    "import pandas as pd\n",
    "\n",
    "def user_activity(activity: pd.DataFrame) -> pd.DataFrame:\n",
    "    start_date = pd.to_datetime('2019-06-27')\n",
    "    end_date = pd.to_datetime('2019-07-27')\n",
    "    activity = activity[(activity['activity_date'] >start_date) & (activity['activity_date'] <= end_date)]\n",
    "    daily_active_users = activity.groupby('activity_date')['user_id'].nunique().reset_index()\n",
    "    daily_active_users.columns = ['day', 'active_users']\n",
    "    return daily_active_users"
   ]
  }
 ],
 "metadata": {
  "language_info": {
   "name": "python"
  }
 },
 "nbformat": 4,
 "nbformat_minor": 2
}
