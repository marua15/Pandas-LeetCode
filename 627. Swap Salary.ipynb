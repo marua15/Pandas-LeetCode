{
 "cells": [
  {
   "cell_type": "code",
   "execution_count": null,
   "metadata": {},
   "outputs": [],
   "source": [
    "import pandas as pd\n",
    "\n",
    "def swap_salary(salary: pd.DataFrame) -> pd.DataFrame:\n",
    "    salary['sex'] = salary['sex'].map({'f' : 'm', 'm' : 'f'})\n",
    "    return salary\n"
   ]
  }
 ],
 "metadata": {
  "language_info": {
   "name": "python"
  }
 },
 "nbformat": 4,
 "nbformat_minor": 2
}
