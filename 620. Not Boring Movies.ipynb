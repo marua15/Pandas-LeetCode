{
 "cells": [
  {
   "cell_type": "code",
   "execution_count": null,
   "metadata": {},
   "outputs": [],
   "source": [
    "import pandas as pd\n",
    "\n",
    "def not_boring_movies(cinema: pd.DataFrame) -> pd.DataFrame:\n",
    "    cinema_filt = cinema[(cinema['description'] != 'boring')  & ( cinema['id']%2 !=0)]\n",
    "    cinema_filt = cinema_filt.sort_values(by='rating',ascending=False)\n",
    "    return cinema_filt\n",
    "    "
   ]
  }
 ],
 "metadata": {
  "language_info": {
   "name": "python"
  }
 },
 "nbformat": 4,
 "nbformat_minor": 2
}
