{
 "cells": [
  {
   "cell_type": "code",
   "execution_count": null,
   "metadata": {},
   "outputs": [],
   "source": [
    "import pandas as pd\n",
    "\n",
    "def triangle_judgement(triangle: pd.DataFrame) -> pd.DataFrame:\n",
    "    conditions = (\n",
    "        (triangle['x'] + triangle['y'] > triangle['z']) &\n",
    "        (triangle['z'] + triangle['x'] > triangle['y']) &\n",
    "        (triangle['z'] + triangle['y'] > triangle['x'])\n",
    "    )\n",
    "    triangle['triangle'] = conditions.map({True: 'Yes', False: 'No'})\n",
    "    return triangle\n",
    "\n"
   ]
  }
 ],
 "metadata": {
  "language_info": {
   "name": "python"
  }
 },
 "nbformat": 4,
 "nbformat_minor": 2
}
