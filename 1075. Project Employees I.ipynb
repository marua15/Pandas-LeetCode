{
 "cells": [
  {
   "cell_type": "code",
   "execution_count": null,
   "metadata": {},
   "outputs": [],
   "source": [
    "import pandas as pd\n",
    "\n",
    "def project_employees_i(project: pd.DataFrame, employee: pd.DataFrame) -> pd.DataFrame:\n",
    "    new_df = pd.merge(project,employee,on='employee_id')\n",
    "    #To convert the grouped series into a DataFrame we use reset_index()\n",
    "    result_df = new_df.groupby('project_id')['experience_years'].mean().round(decimals=2).reset_index()\n",
    "    result_df.columns=['project_id','average_years']\n",
    "    return result_df"
   ]
  }
 ],
 "metadata": {
  "language_info": {
   "name": "python"
  }
 },
 "nbformat": 4,
 "nbformat_minor": 2
}
