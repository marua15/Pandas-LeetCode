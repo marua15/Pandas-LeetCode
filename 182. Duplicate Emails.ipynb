{
 "cells": [
  {
   "cell_type": "code",
   "execution_count": null,
   "metadata": {},
   "outputs": [],
   "source": [
    "import pandas as pd\n",
    "\n",
    "def duplicate_emails(person: pd.DataFrame) -> pd.DataFrame:\n",
    "    find_duplicate = person[person.duplicated(subset='email',keep='first')][['email']].drop_duplicates()\n",
    "    return find_duplicate"
   ]
  }
 ],
 "metadata": {
  "language_info": {
   "name": "python"
  }
 },
 "nbformat": 4,
 "nbformat_minor": 2
}
