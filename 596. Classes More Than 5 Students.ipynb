{
 "cells": [
  {
   "cell_type": "code",
   "execution_count": null,
   "metadata": {},
   "outputs": [],
   "source": [
    "import pandas as pd\n",
    "\n",
    "def find_classes(courses: pd.DataFrame) -> pd.DataFrame:\n",
    "    # students_counts = courses['class'].value_counts()\n",
    "    student_group = courses.groupby(by='class').size().reset_index(name='students_numb')\n",
    "    student_group = student_group.loc[(student_group['students_numb']>=5),['class']]\n",
    "    return student_group"
   ]
  }
 ],
 "metadata": {
  "language_info": {
   "name": "python"
  }
 },
 "nbformat": 4,
 "nbformat_minor": 2
}
