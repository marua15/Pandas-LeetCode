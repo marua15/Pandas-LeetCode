{
 "cells": [
  {
   "cell_type": "code",
   "execution_count": null,
   "metadata": {},
   "outputs": [],
   "source": [
    "import pandas as pd\n",
    "\n",
    "def article_views(views: pd.DataFrame) -> pd.DataFrame:\n",
    "    views.rename(columns={'author_id':'id'},copy=False,inplace=True)\n",
    "    result = views.loc[views[\"id\"]==views[\"viewer_id\"],['id']].sort_values(by=\"id\",ascending=True)\n",
    "    result_drop = result.drop_duplicates(subset=\"id\")\n",
    "    return result_drop"
   ]
  }
 ],
 "metadata": {
  "language_info": {
   "name": "python"
  }
 },
 "nbformat": 4,
 "nbformat_minor": 2
}
