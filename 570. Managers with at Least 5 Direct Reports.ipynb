{
 "cells": [
  {
   "cell_type": "code",
   "execution_count": null,
   "metadata": {},
   "outputs": [],
   "source": [
    "import pandas as pd\n",
    "\n",
    "def find_managers(employee: pd.DataFrame) -> pd.DataFrame:\n",
    "    managers = employee.dropna(subset=['managerId'])\n",
    "    # managers = employee[employee['managerId'].notnull()]\n",
    "    # report_value = employee['managerId'].value_counts()\n",
    "    report_value = managers['managerId'].value_counts()\n",
    "    department_5_or_more = report_value[report_value >=5].index\n",
    "    result = employee[employee['id'].isin(department_5_or_more)]\n",
    "    return result[['name']]\n"
   ]
  }
 ],
 "metadata": {
  "language_info": {
   "name": "python"
  }
 },
 "nbformat": 4,
 "nbformat_minor": 2
}
