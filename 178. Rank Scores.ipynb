{
 "cells": [
  {
   "cell_type": "code",
   "execution_count": null,
   "metadata": {},
   "outputs": [],
   "source": [
    "import pandas as pd\n",
    "\n",
    "def order_scores(scores: pd.DataFrame) -> pd.DataFrame:\n",
    "   scores = scores.sort_values(by='score',ascending=False)\n",
    "   scores['rank'] = scores['score'].rank(ascending=False,method='dense')\n",
    "   return scores[['score','rank']]"
   ]
  }
 ],
 "metadata": {
  "language_info": {
   "name": "python"
  }
 },
 "nbformat": 4,
 "nbformat_minor": 2
}
